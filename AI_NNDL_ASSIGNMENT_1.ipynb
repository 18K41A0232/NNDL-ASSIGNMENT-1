{
  "nbformat": 4,
  "nbformat_minor": 0,
  "metadata": {
    "colab": {
      "name": "AI NNDL/ ASSIGNMENT-1.ipynb",
      "provenance": [],
      "authorship_tag": "ABX9TyN76KiDTKHfkBgAiPuKTlXM",
      "include_colab_link": true
    },
    "kernelspec": {
      "name": "python3",
      "display_name": "Python 3"
    },
    "language_info": {
      "name": "python"
    }
  },
  "cells": [
    {
      "cell_type": "markdown",
      "metadata": {
        "id": "view-in-github",
        "colab_type": "text"
      },
      "source": [
        "<a href=\"https://colab.research.google.com/github/18K41A0232/NNDL-ASSIGNMENT-1/blob/main/AI_NNDL_ASSIGNMENT_1.ipynb\" target=\"_parent\"><img src=\"https://colab.research.google.com/assets/colab-badge.svg\" alt=\"Open In Colab\"/></a>"
      ]
    },
    {
      "cell_type": "markdown",
      "metadata": {
        "id": "GDU3Jb1BiGfF"
      },
      "source": [
        "Find the global minimum point and value for the function f(x) = x^4 + 3x^2 + 10 1) Do manual calculations for two iterations 2) Find optional solution using python programming\n",
        "\n",
        "1)\n",
        "image link of calculations\n",
        "\n",
        "https://drive.google.com/file/d/1nU2kRcq8i7yPEYb8ZBvS-gEYGt-wzbCn/view?usp=sharing"
      ]
    },
    {
      "cell_type": "code",
      "metadata": {
        "colab": {
          "base_uri": "https://localhost:8080/"
        },
        "id": "rUu7r5-gBbLT",
        "outputId": "a0cc8392-028f-4c45-f777-e364fb255b7f"
      },
      "source": [
        "from sympy import *\n",
        "x = symbols('x')\n",
        "f = x ** 4 + 3 * x ** 2 + 10\n",
        "y = diff(f, x) \n",
        "print(y)\n",
        "X = int(input(\"enter x value:\"))\n",
        "itr = 1 \n",
        "n = 0.1 \n",
        "epoch = 2\n",
        "while (itr <= epoch) :\n",
        "   Y = y.subs(x, X)\n",
        "   print(\"y\", Y)\n",
        "   deltax=- n * Y\n",
        "   print(\"delta(x) =\", deltax)\n",
        "   newx = X + deltax\n",
        "   print(\"x =\", newx)\n",
        "   itr = itr + 1\n",
        "   X = newx\n",
        "print(\"final x =\", X)\n",
        "print(\"Minimum value is\", f.subs(x, X))"
      ],
      "execution_count": null,
      "outputs": [
        {
          "output_type": "stream",
          "text": [
            "4*x**3 + 6*x\n",
            "enter x value:0\n",
            "y 0\n",
            "delta(x) = 0\n",
            "x = 0\n",
            "y 0\n",
            "delta(x) = 0\n",
            "x = 0\n",
            "final x = 0\n",
            "Minimum value is 10\n"
          ],
          "name": "stdout"
        }
      ]
    }
  ]
}